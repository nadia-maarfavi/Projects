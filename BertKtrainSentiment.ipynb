{
  "nbformat": 4,
  "nbformat_minor": 0,
  "metadata": {
    "colab": {
      "name": "BertKtrainSentiment.ipynb",
      "provenance": [],
      "authorship_tag": "ABX9TyNclVz7pPKFYJ93uMebTg3q",
      "include_colab_link": true
    },
    "kernelspec": {
      "name": "python3",
      "display_name": "Python 3"
    }
  },
  "cells": [
    {
      "cell_type": "markdown",
      "metadata": {
        "id": "view-in-github",
        "colab_type": "text"
      },
      "source": [
        "<a href=\"https://colab.research.google.com/github/nadia-maarfavi/Projects/blob/master/BertKtrainSentiment.ipynb\" target=\"_parent\"><img src=\"https://colab.research.google.com/assets/colab-badge.svg\" alt=\"Open In Colab\"/></a>"
      ]
    },
    {
      "cell_type": "code",
      "metadata": {
        "id": "ZSvA1oFg55XU",
        "colab_type": "code",
        "colab": {
          "base_uri": "https://localhost:8080/",
          "height": 121
        },
        "outputId": "e26a4a4c-8138-4e20-e499-0296959fca97"
      },
      "source": [
        "from google.colab import drive\n",
        "drive.mount('/content/drive')"
      ],
      "execution_count": 1,
      "outputs": [
        {
          "output_type": "stream",
          "text": [
            "Go to this URL in a browser: https://accounts.google.com/o/oauth2/auth?client_id=947318989803-6bn6qk8qdgf4n4g3pfee6491hc0brc4i.apps.googleusercontent.com&redirect_uri=urn%3aietf%3awg%3aoauth%3a2.0%3aoob&scope=email%20https%3a%2f%2fwww.googleapis.com%2fauth%2fdocs.test%20https%3a%2f%2fwww.googleapis.com%2fauth%2fdrive%20https%3a%2f%2fwww.googleapis.com%2fauth%2fdrive.photos.readonly%20https%3a%2f%2fwww.googleapis.com%2fauth%2fpeopleapi.readonly&response_type=code\n",
            "\n",
            "Enter your authorization code:\n",
            "··········\n",
            "Mounted at /content/drive\n"
          ],
          "name": "stdout"
        }
      ]
    },
    {
      "cell_type": "code",
      "metadata": {
        "id": "DijSJiKH6GOB",
        "colab_type": "code",
        "colab": {}
      },
      "source": [
        "%reload_ext autoreload\n",
        "%autoreload 2\n",
        "%matplotlib inline\n",
        "import os\n",
        "os.environ[\"CUDA_DEVICE_ORDER\"]=\"PCI_BUS_ID\";\n",
        "os.environ[\"CUDA_VISIBLE_DEVICES\"]=\"0\";"
      ],
      "execution_count": 2,
      "outputs": []
    },
    {
      "cell_type": "code",
      "metadata": {
        "id": "z__3r7Wo6Gt7",
        "colab_type": "code",
        "colab": {}
      },
      "source": [
        "!pip install ktrain"
      ],
      "execution_count": null,
      "outputs": []
    },
    {
      "cell_type": "code",
      "metadata": {
        "id": "Py8gfE2U6IPp",
        "colab_type": "code",
        "colab": {}
      },
      "source": [
        "import ktrain\n",
        "from ktrain import text\n",
        "import pandas as pd\n",
        "import numpy as np"
      ],
      "execution_count": 4,
      "outputs": []
    },
    {
      "cell_type": "code",
      "metadata": {
        "id": "tOFfSBQ56J-I",
        "colab_type": "code",
        "colab": {}
      },
      "source": [
        "reloaded_predictor = ktrain.load_predictor('/content/drive/My Drive/NLP/Sentiment Analysis Series/BERT/my_distilbert_predictor')"
      ],
      "execution_count": 5,
      "outputs": []
    },
    {
      "cell_type": "code",
      "metadata": {
        "id": "kWlB4TOT6P2L",
        "colab_type": "code",
        "colab": {
          "base_uri": "https://localhost:8080/",
          "height": 35
        },
        "outputId": "b19856b5-5939-4ace-dea9-e8276dbcbc69"
      },
      "source": [
        "reloaded_predictor.predict('I love that they pointed out that the 4 leads are Oscar nominated/winners like it was a trailer for some arthouse film lol')"
      ],
      "execution_count": 6,
      "outputs": [
        {
          "output_type": "display_data",
          "data": {
            "text/html": [
              ""
            ],
            "text/plain": [
              "<IPython.core.display.HTML object>"
            ]
          },
          "metadata": {
            "tags": []
          }
        },
        {
          "output_type": "execute_result",
          "data": {
            "application/vnd.google.colaboratory.intrinsic+json": {
              "type": "string"
            },
            "text/plain": [
              "'pos'"
            ]
          },
          "metadata": {
            "tags": []
          },
          "execution_count": 6
        }
      ]
    },
    {
      "cell_type": "code",
      "metadata": {
        "id": "6jkGo-XU6RkF",
        "colab_type": "code",
        "colab": {
          "base_uri": "https://localhost:8080/",
          "height": 279
        },
        "outputId": "3355dd59-c05c-4940-e675-e33e8f6099f1"
      },
      "source": [
        "YoutubeComments = pd.read_csv('/content/drive/My Drive/NLP/Sentiment Analysis Series/YoutubeComments.csv')\n",
        "YoutubeComments.head()"
      ],
      "execution_count": 13,
      "outputs": [
        {
          "output_type": "execute_result",
          "data": {
            "text/html": [
              "<div>\n",
              "<style scoped>\n",
              "    .dataframe tbody tr th:only-of-type {\n",
              "        vertical-align: middle;\n",
              "    }\n",
              "\n",
              "    .dataframe tbody tr th {\n",
              "        vertical-align: top;\n",
              "    }\n",
              "\n",
              "    .dataframe thead th {\n",
              "        text-align: right;\n",
              "    }\n",
              "</style>\n",
              "<table border=\"1\" class=\"dataframe\">\n",
              "  <thead>\n",
              "    <tr style=\"text-align: right;\">\n",
              "      <th></th>\n",
              "      <th>Title</th>\n",
              "      <th>Title_link</th>\n",
              "      <th>Comments</th>\n",
              "      <th>CommentsTime</th>\n",
              "      <th>CommentsLike</th>\n",
              "      <th>TransferedTime</th>\n",
              "    </tr>\n",
              "  </thead>\n",
              "  <tbody>\n",
              "    <tr>\n",
              "      <th>0</th>\n",
              "      <td>Zombieland: Double Tap Trailer #1 (2019) | Mov...</td>\n",
              "      <td>https://www.youtube.com/watch?v=YghZVENrn3Q&amp;li...</td>\n",
              "      <td>Words cannot express how happy this makes me.</td>\n",
              "      <td>1 week ago</td>\n",
              "      <td>1.2K</td>\n",
              "      <td>13</td>\n",
              "    </tr>\n",
              "    <tr>\n",
              "      <th>1</th>\n",
              "      <td>Zombieland: Double Tap Trailer #1 (2019) | Mov...</td>\n",
              "      <td>https://www.youtube.com/watch?v=YghZVENrn3Q&amp;li...</td>\n",
              "      <td>I have high hopes that this will not disappoin...</td>\n",
              "      <td>1 week ago</td>\n",
              "      <td>1.1K</td>\n",
              "      <td>13</td>\n",
              "    </tr>\n",
              "    <tr>\n",
              "      <th>2</th>\n",
              "      <td>Zombieland: Double Tap Trailer #1 (2019) | Mov...</td>\n",
              "      <td>https://www.youtube.com/watch?v=YghZVENrn3Q&amp;li...</td>\n",
              "      <td>2019 Jesse Eisenberg looks same as 2009 Jesse ...</td>\n",
              "      <td>1 week ago</td>\n",
              "      <td>548</td>\n",
              "      <td>13</td>\n",
              "    </tr>\n",
              "    <tr>\n",
              "      <th>3</th>\n",
              "      <td>Zombieland: Double Tap Trailer #1 (2019) | Mov...</td>\n",
              "      <td>https://www.youtube.com/watch?v=YghZVENrn3Q&amp;li...</td>\n",
              "      <td>I love that they pointed out that the 4 leads ...</td>\n",
              "      <td>1 week ago</td>\n",
              "      <td>388</td>\n",
              "      <td>13</td>\n",
              "    </tr>\n",
              "    <tr>\n",
              "      <th>4</th>\n",
              "      <td>Zombieland: Double Tap Trailer #1 (2019) | Mov...</td>\n",
              "      <td>https://www.youtube.com/watch?v=YghZVENrn3Q&amp;li...</td>\n",
              "      <td>When you get a notification of the Zombieland ...</td>\n",
              "      <td>1 week ago</td>\n",
              "      <td>454</td>\n",
              "      <td>13</td>\n",
              "    </tr>\n",
              "  </tbody>\n",
              "</table>\n",
              "</div>"
            ],
            "text/plain": [
              "                                               Title  ... TransferedTime\n",
              "0  Zombieland: Double Tap Trailer #1 (2019) | Mov...  ...             13\n",
              "1  Zombieland: Double Tap Trailer #1 (2019) | Mov...  ...             13\n",
              "2  Zombieland: Double Tap Trailer #1 (2019) | Mov...  ...             13\n",
              "3  Zombieland: Double Tap Trailer #1 (2019) | Mov...  ...             13\n",
              "4  Zombieland: Double Tap Trailer #1 (2019) | Mov...  ...             13\n",
              "\n",
              "[5 rows x 6 columns]"
            ]
          },
          "metadata": {
            "tags": []
          },
          "execution_count": 13
        }
      ]
    },
    {
      "cell_type": "code",
      "metadata": {
        "id": "Y9nVnbgT6ddT",
        "colab_type": "code",
        "colab": {
          "base_uri": "https://localhost:8080/",
          "height": 279
        },
        "outputId": "743b8095-15b3-447b-e5aa-61643a27de8b"
      },
      "source": [
        "YoutubeComments['Sentiment'] = np.nan\n",
        "YoutubeComments.head()"
      ],
      "execution_count": 14,
      "outputs": [
        {
          "output_type": "execute_result",
          "data": {
            "text/html": [
              "<div>\n",
              "<style scoped>\n",
              "    .dataframe tbody tr th:only-of-type {\n",
              "        vertical-align: middle;\n",
              "    }\n",
              "\n",
              "    .dataframe tbody tr th {\n",
              "        vertical-align: top;\n",
              "    }\n",
              "\n",
              "    .dataframe thead th {\n",
              "        text-align: right;\n",
              "    }\n",
              "</style>\n",
              "<table border=\"1\" class=\"dataframe\">\n",
              "  <thead>\n",
              "    <tr style=\"text-align: right;\">\n",
              "      <th></th>\n",
              "      <th>Title</th>\n",
              "      <th>Title_link</th>\n",
              "      <th>Comments</th>\n",
              "      <th>CommentsTime</th>\n",
              "      <th>CommentsLike</th>\n",
              "      <th>TransferedTime</th>\n",
              "      <th>Sentiment</th>\n",
              "    </tr>\n",
              "  </thead>\n",
              "  <tbody>\n",
              "    <tr>\n",
              "      <th>0</th>\n",
              "      <td>Zombieland: Double Tap Trailer #1 (2019) | Mov...</td>\n",
              "      <td>https://www.youtube.com/watch?v=YghZVENrn3Q&amp;li...</td>\n",
              "      <td>Words cannot express how happy this makes me.</td>\n",
              "      <td>1 week ago</td>\n",
              "      <td>1.2K</td>\n",
              "      <td>13</td>\n",
              "      <td>NaN</td>\n",
              "    </tr>\n",
              "    <tr>\n",
              "      <th>1</th>\n",
              "      <td>Zombieland: Double Tap Trailer #1 (2019) | Mov...</td>\n",
              "      <td>https://www.youtube.com/watch?v=YghZVENrn3Q&amp;li...</td>\n",
              "      <td>I have high hopes that this will not disappoin...</td>\n",
              "      <td>1 week ago</td>\n",
              "      <td>1.1K</td>\n",
              "      <td>13</td>\n",
              "      <td>NaN</td>\n",
              "    </tr>\n",
              "    <tr>\n",
              "      <th>2</th>\n",
              "      <td>Zombieland: Double Tap Trailer #1 (2019) | Mov...</td>\n",
              "      <td>https://www.youtube.com/watch?v=YghZVENrn3Q&amp;li...</td>\n",
              "      <td>2019 Jesse Eisenberg looks same as 2009 Jesse ...</td>\n",
              "      <td>1 week ago</td>\n",
              "      <td>548</td>\n",
              "      <td>13</td>\n",
              "      <td>NaN</td>\n",
              "    </tr>\n",
              "    <tr>\n",
              "      <th>3</th>\n",
              "      <td>Zombieland: Double Tap Trailer #1 (2019) | Mov...</td>\n",
              "      <td>https://www.youtube.com/watch?v=YghZVENrn3Q&amp;li...</td>\n",
              "      <td>I love that they pointed out that the 4 leads ...</td>\n",
              "      <td>1 week ago</td>\n",
              "      <td>388</td>\n",
              "      <td>13</td>\n",
              "      <td>NaN</td>\n",
              "    </tr>\n",
              "    <tr>\n",
              "      <th>4</th>\n",
              "      <td>Zombieland: Double Tap Trailer #1 (2019) | Mov...</td>\n",
              "      <td>https://www.youtube.com/watch?v=YghZVENrn3Q&amp;li...</td>\n",
              "      <td>When you get a notification of the Zombieland ...</td>\n",
              "      <td>1 week ago</td>\n",
              "      <td>454</td>\n",
              "      <td>13</td>\n",
              "      <td>NaN</td>\n",
              "    </tr>\n",
              "  </tbody>\n",
              "</table>\n",
              "</div>"
            ],
            "text/plain": [
              "                                               Title  ... Sentiment\n",
              "0  Zombieland: Double Tap Trailer #1 (2019) | Mov...  ...       NaN\n",
              "1  Zombieland: Double Tap Trailer #1 (2019) | Mov...  ...       NaN\n",
              "2  Zombieland: Double Tap Trailer #1 (2019) | Mov...  ...       NaN\n",
              "3  Zombieland: Double Tap Trailer #1 (2019) | Mov...  ...       NaN\n",
              "4  Zombieland: Double Tap Trailer #1 (2019) | Mov...  ...       NaN\n",
              "\n",
              "[5 rows x 7 columns]"
            ]
          },
          "metadata": {
            "tags": []
          },
          "execution_count": 14
        }
      ]
    },
    {
      "cell_type": "code",
      "metadata": {
        "id": "a_C2Ueud6gqw",
        "colab_type": "code",
        "colab": {
          "base_uri": "https://localhost:8080/",
          "height": 84
        },
        "outputId": "d2d5dc5d-9488-45de-8aa1-158bbe90baf5"
      },
      "source": [
        "count_row = YoutubeComments.shape[0]\n",
        "print(\"Count Row befor delete null: \",count_row)\n",
        "print(YoutubeComments['Comments'].isnull().sum())\n",
        "YoutubeComments = YoutubeComments.dropna(axis = 0, subset=['Comments'])\n",
        "print(YoutubeComments['Comments'].isnull().sum())\n",
        "count_row = YoutubeComments.shape[0]\n",
        "print(\"Count Row after delete null: \", count_row)"
      ],
      "execution_count": 15,
      "outputs": [
        {
          "output_type": "stream",
          "text": [
            "Count Row befor delete null:  199\n",
            "0\n",
            "0\n",
            "199\n"
          ],
          "name": "stdout"
        }
      ]
    },
    {
      "cell_type": "code",
      "metadata": {
        "id": "2yTuG2eS6ij2",
        "colab_type": "code",
        "colab": {}
      },
      "source": [
        "for ind in YoutubeComments.index: \n",
        "    \n",
        "    PredictionYT = reloaded_predictor.predict(YoutubeComments['Comments'][ind])\n",
        "    YoutubeComments['Sentiment'][ind]  = PredictionYT\n",
        "    print(ind)\n",
        "    #if(ind%1000==0):\n",
        "      #print(ind)"
      ],
      "execution_count": null,
      "outputs": []
    },
    {
      "cell_type": "code",
      "metadata": {
        "id": "2baJTx_86r8W",
        "colab_type": "code",
        "colab": {
          "base_uri": "https://localhost:8080/",
          "height": 279
        },
        "outputId": "0538c1cc-c367-4fd1-8d10-4fec40d97acc"
      },
      "source": [
        "YoutubeComments.head()"
      ],
      "execution_count": 17,
      "outputs": [
        {
          "output_type": "execute_result",
          "data": {
            "text/html": [
              "<div>\n",
              "<style scoped>\n",
              "    .dataframe tbody tr th:only-of-type {\n",
              "        vertical-align: middle;\n",
              "    }\n",
              "\n",
              "    .dataframe tbody tr th {\n",
              "        vertical-align: top;\n",
              "    }\n",
              "\n",
              "    .dataframe thead th {\n",
              "        text-align: right;\n",
              "    }\n",
              "</style>\n",
              "<table border=\"1\" class=\"dataframe\">\n",
              "  <thead>\n",
              "    <tr style=\"text-align: right;\">\n",
              "      <th></th>\n",
              "      <th>Title</th>\n",
              "      <th>Title_link</th>\n",
              "      <th>Comments</th>\n",
              "      <th>CommentsTime</th>\n",
              "      <th>CommentsLike</th>\n",
              "      <th>TransferedTime</th>\n",
              "      <th>Sentiment</th>\n",
              "    </tr>\n",
              "  </thead>\n",
              "  <tbody>\n",
              "    <tr>\n",
              "      <th>0</th>\n",
              "      <td>Zombieland: Double Tap Trailer #1 (2019) | Mov...</td>\n",
              "      <td>https://www.youtube.com/watch?v=YghZVENrn3Q&amp;li...</td>\n",
              "      <td>Words cannot express how happy this makes me.</td>\n",
              "      <td>1 week ago</td>\n",
              "      <td>1.2K</td>\n",
              "      <td>13</td>\n",
              "      <td>pos</td>\n",
              "    </tr>\n",
              "    <tr>\n",
              "      <th>1</th>\n",
              "      <td>Zombieland: Double Tap Trailer #1 (2019) | Mov...</td>\n",
              "      <td>https://www.youtube.com/watch?v=YghZVENrn3Q&amp;li...</td>\n",
              "      <td>I have high hopes that this will not disappoin...</td>\n",
              "      <td>1 week ago</td>\n",
              "      <td>1.1K</td>\n",
              "      <td>13</td>\n",
              "      <td>pos</td>\n",
              "    </tr>\n",
              "    <tr>\n",
              "      <th>2</th>\n",
              "      <td>Zombieland: Double Tap Trailer #1 (2019) | Mov...</td>\n",
              "      <td>https://www.youtube.com/watch?v=YghZVENrn3Q&amp;li...</td>\n",
              "      <td>2019 Jesse Eisenberg looks same as 2009 Jesse ...</td>\n",
              "      <td>1 week ago</td>\n",
              "      <td>548</td>\n",
              "      <td>13</td>\n",
              "      <td>pos</td>\n",
              "    </tr>\n",
              "    <tr>\n",
              "      <th>3</th>\n",
              "      <td>Zombieland: Double Tap Trailer #1 (2019) | Mov...</td>\n",
              "      <td>https://www.youtube.com/watch?v=YghZVENrn3Q&amp;li...</td>\n",
              "      <td>I love that they pointed out that the 4 leads ...</td>\n",
              "      <td>1 week ago</td>\n",
              "      <td>388</td>\n",
              "      <td>13</td>\n",
              "      <td>pos</td>\n",
              "    </tr>\n",
              "    <tr>\n",
              "      <th>4</th>\n",
              "      <td>Zombieland: Double Tap Trailer #1 (2019) | Mov...</td>\n",
              "      <td>https://www.youtube.com/watch?v=YghZVENrn3Q&amp;li...</td>\n",
              "      <td>When you get a notification of the Zombieland ...</td>\n",
              "      <td>1 week ago</td>\n",
              "      <td>454</td>\n",
              "      <td>13</td>\n",
              "      <td>neg</td>\n",
              "    </tr>\n",
              "  </tbody>\n",
              "</table>\n",
              "</div>"
            ],
            "text/plain": [
              "                                               Title  ... Sentiment\n",
              "0  Zombieland: Double Tap Trailer #1 (2019) | Mov...  ...       pos\n",
              "1  Zombieland: Double Tap Trailer #1 (2019) | Mov...  ...       pos\n",
              "2  Zombieland: Double Tap Trailer #1 (2019) | Mov...  ...       pos\n",
              "3  Zombieland: Double Tap Trailer #1 (2019) | Mov...  ...       pos\n",
              "4  Zombieland: Double Tap Trailer #1 (2019) | Mov...  ...       neg\n",
              "\n",
              "[5 rows x 7 columns]"
            ]
          },
          "metadata": {
            "tags": []
          },
          "execution_count": 17
        }
      ]
    },
    {
      "cell_type": "code",
      "metadata": {
        "id": "mFENCBDc6tzF",
        "colab_type": "code",
        "colab": {}
      },
      "source": [
        "YoutubeComments.to_csv('BertKtrainSentiment.csv')"
      ],
      "execution_count": 20,
      "outputs": []
    }
  ]
}