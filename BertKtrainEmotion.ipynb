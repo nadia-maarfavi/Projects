{
  "nbformat": 4,
  "nbformat_minor": 0,
  "metadata": {
    "colab": {
      "name": "BertKtrainEmotion.ipynb",
      "provenance": [],
      "authorship_tag": "ABX9TyMUeUX7lISieWl+wmzWChGd",
      "include_colab_link": true
    },
    "kernelspec": {
      "name": "python3",
      "display_name": "Python 3"
    }
  },
  "cells": [
    {
      "cell_type": "markdown",
      "metadata": {
        "id": "view-in-github",
        "colab_type": "text"
      },
      "source": [
        "<a href=\"https://colab.research.google.com/github/nadia-maarfavi/Projects/blob/master/BertKtrainEmotion.ipynb\" target=\"_parent\"><img src=\"https://colab.research.google.com/assets/colab-badge.svg\" alt=\"Open In Colab\"/></a>"
      ]
    },
    {
      "cell_type": "code",
      "metadata": {
        "id": "rZLCYVq24S1A",
        "colab_type": "code",
        "colab": {
          "base_uri": "https://localhost:8080/",
          "height": 121
        },
        "outputId": "0f16a4c9-19cb-4f8a-d3be-2dd8b5bcc153"
      },
      "source": [
        "from google.colab import drive\n",
        "drive.mount('/content/drive')"
      ],
      "execution_count": null,
      "outputs": [
        {
          "output_type": "stream",
          "text": [
            "Go to this URL in a browser: https://accounts.google.com/o/oauth2/auth?client_id=947318989803-6bn6qk8qdgf4n4g3pfee6491hc0brc4i.apps.googleusercontent.com&redirect_uri=urn%3aietf%3awg%3aoauth%3a2.0%3aoob&scope=email%20https%3a%2f%2fwww.googleapis.com%2fauth%2fdocs.test%20https%3a%2f%2fwww.googleapis.com%2fauth%2fdrive%20https%3a%2f%2fwww.googleapis.com%2fauth%2fdrive.photos.readonly%20https%3a%2f%2fwww.googleapis.com%2fauth%2fpeopleapi.readonly&response_type=code\n",
            "\n",
            "Enter your authorization code:\n",
            "··········\n",
            "Mounted at /content/drive\n"
          ],
          "name": "stdout"
        }
      ]
    },
    {
      "cell_type": "code",
      "metadata": {
        "id": "nj4KKsvyfAWq",
        "colab_type": "code",
        "colab": {
          "base_uri": "https://localhost:8080/",
          "height": 34
        },
        "outputId": "75d19e0e-4cfe-443f-8cf0-fa396aa9a0cc"
      },
      "source": [
        "%tensorflow_version 1.x"
      ],
      "execution_count": null,
      "outputs": [
        {
          "output_type": "stream",
          "text": [
            "TensorFlow 1.x selected.\n"
          ],
          "name": "stdout"
        }
      ]
    },
    {
      "cell_type": "code",
      "metadata": {
        "id": "pZne7CgWfDLb",
        "colab_type": "code",
        "colab": {}
      },
      "source": [
        "import tensorflow\n",
        "print(tensorflow.__version__)"
      ],
      "execution_count": null,
      "outputs": []
    },
    {
      "cell_type": "code",
      "metadata": {
        "id": "eM1-jJgifGJf",
        "colab_type": "code",
        "colab": {}
      },
      "source": [
        "!pip install ktrain\n"
      ],
      "execution_count": null,
      "outputs": []
    },
    {
      "cell_type": "code",
      "metadata": {
        "id": "Gd-xxRdFfJhj",
        "colab_type": "code",
        "colab": {}
      },
      "source": [
        "import pandas as pd\n",
        "import numpy as np\n",
        "\n",
        "import ktrain\n",
        "from ktrain import text"
      ],
      "execution_count": null,
      "outputs": []
    },
    {
      "cell_type": "code",
      "metadata": {
        "id": "QaMDYsA3fMFD",
        "colab_type": "code",
        "colab": {}
      },
      "source": [
        "reloaded_predictor = ktrain.load_predictor(\"/content/drive/My Drive/NLP/bert_model\")"
      ],
      "execution_count": null,
      "outputs": []
    },
    {
      "cell_type": "code",
      "metadata": {
        "id": "KBOwbg5KfOfr",
        "colab_type": "code",
        "colab": {
          "base_uri": "https://localhost:8080/",
          "height": 34
        },
        "outputId": "3fe75baf-b1d2-496b-f4f0-43779f9e7997"
      },
      "source": [
        "prediction = reloaded_predictor.predict('I just broke up with my boyfriend')\n",
        "print(prediction)"
      ],
      "execution_count": null,
      "outputs": [
        {
          "output_type": "display_data",
          "data": {
            "text/html": [
              ""
            ],
            "text/plain": [
              "<IPython.core.display.HTML object>"
            ]
          },
          "metadata": {
            "tags": []
          }
        },
        {
          "output_type": "stream",
          "text": [
            "sadness\n"
          ],
          "name": "stdout"
        }
      ]
    },
    {
      "cell_type": "code",
      "metadata": {
        "id": "dqrXk7WIfQAd",
        "colab_type": "code",
        "colab": {
          "base_uri": "https://localhost:8080/",
          "height": 279
        },
        "outputId": "8f0f68df-2710-43e1-87bd-2beaa3eee41e"
      },
      "source": [
        "YoutubeComments = pd.read_csv('/content/drive/My Drive/NLP/YoutubeComments.csv')\n",
        "YoutubeComments.head()"
      ],
      "execution_count": null,
      "outputs": [
        {
          "output_type": "execute_result",
          "data": {
            "text/html": [
              "<div>\n",
              "<style scoped>\n",
              "    .dataframe tbody tr th:only-of-type {\n",
              "        vertical-align: middle;\n",
              "    }\n",
              "\n",
              "    .dataframe tbody tr th {\n",
              "        vertical-align: top;\n",
              "    }\n",
              "\n",
              "    .dataframe thead th {\n",
              "        text-align: right;\n",
              "    }\n",
              "</style>\n",
              "<table border=\"1\" class=\"dataframe\">\n",
              "  <thead>\n",
              "    <tr style=\"text-align: right;\">\n",
              "      <th></th>\n",
              "      <th>Title</th>\n",
              "      <th>Title_link</th>\n",
              "      <th>Comments</th>\n",
              "      <th>CommentsTime</th>\n",
              "      <th>CommentsLike</th>\n",
              "      <th>TransferedTime</th>\n",
              "    </tr>\n",
              "  </thead>\n",
              "  <tbody>\n",
              "    <tr>\n",
              "      <th>0</th>\n",
              "      <td>Zombieland: Double Tap Trailer #1 (2019) | Mov...</td>\n",
              "      <td>https://www.youtube.com/watch?v=YghZVENrn3Q&amp;li...</td>\n",
              "      <td>Words cannot express how happy this makes me.</td>\n",
              "      <td>1 week ago</td>\n",
              "      <td>1.2K</td>\n",
              "      <td>13</td>\n",
              "    </tr>\n",
              "    <tr>\n",
              "      <th>1</th>\n",
              "      <td>Zombieland: Double Tap Trailer #1 (2019) | Mov...</td>\n",
              "      <td>https://www.youtube.com/watch?v=YghZVENrn3Q&amp;li...</td>\n",
              "      <td>I have high hopes that this will not disappoin...</td>\n",
              "      <td>1 week ago</td>\n",
              "      <td>1.1K</td>\n",
              "      <td>13</td>\n",
              "    </tr>\n",
              "    <tr>\n",
              "      <th>2</th>\n",
              "      <td>Zombieland: Double Tap Trailer #1 (2019) | Mov...</td>\n",
              "      <td>https://www.youtube.com/watch?v=YghZVENrn3Q&amp;li...</td>\n",
              "      <td>2019 Jesse Eisenberg looks same as 2009 Jesse ...</td>\n",
              "      <td>1 week ago</td>\n",
              "      <td>548</td>\n",
              "      <td>13</td>\n",
              "    </tr>\n",
              "    <tr>\n",
              "      <th>3</th>\n",
              "      <td>Zombieland: Double Tap Trailer #1 (2019) | Mov...</td>\n",
              "      <td>https://www.youtube.com/watch?v=YghZVENrn3Q&amp;li...</td>\n",
              "      <td>I love that they pointed out that the 4 leads ...</td>\n",
              "      <td>1 week ago</td>\n",
              "      <td>388</td>\n",
              "      <td>13</td>\n",
              "    </tr>\n",
              "    <tr>\n",
              "      <th>4</th>\n",
              "      <td>Zombieland: Double Tap Trailer #1 (2019) | Mov...</td>\n",
              "      <td>https://www.youtube.com/watch?v=YghZVENrn3Q&amp;li...</td>\n",
              "      <td>When you get a notification of the Zombieland ...</td>\n",
              "      <td>1 week ago</td>\n",
              "      <td>454</td>\n",
              "      <td>13</td>\n",
              "    </tr>\n",
              "  </tbody>\n",
              "</table>\n",
              "</div>"
            ],
            "text/plain": [
              "                                               Title  ... TransferedTime\n",
              "0  Zombieland: Double Tap Trailer #1 (2019) | Mov...  ...             13\n",
              "1  Zombieland: Double Tap Trailer #1 (2019) | Mov...  ...             13\n",
              "2  Zombieland: Double Tap Trailer #1 (2019) | Mov...  ...             13\n",
              "3  Zombieland: Double Tap Trailer #1 (2019) | Mov...  ...             13\n",
              "4  Zombieland: Double Tap Trailer #1 (2019) | Mov...  ...             13\n",
              "\n",
              "[5 rows x 6 columns]"
            ]
          },
          "metadata": {
            "tags": []
          },
          "execution_count": 7
        }
      ]
    },
    {
      "cell_type": "code",
      "metadata": {
        "id": "xY3lz4iOgJ4H",
        "colab_type": "code",
        "colab": {
          "base_uri": "https://localhost:8080/",
          "height": 279
        },
        "outputId": "b0f0eb6e-f3a4-4ab1-8076-8e8a3295ff6b"
      },
      "source": [
        "YoutubeComments['Emotion'] = np.nan\n",
        "YoutubeComments.head()"
      ],
      "execution_count": null,
      "outputs": [
        {
          "output_type": "execute_result",
          "data": {
            "text/html": [
              "<div>\n",
              "<style scoped>\n",
              "    .dataframe tbody tr th:only-of-type {\n",
              "        vertical-align: middle;\n",
              "    }\n",
              "\n",
              "    .dataframe tbody tr th {\n",
              "        vertical-align: top;\n",
              "    }\n",
              "\n",
              "    .dataframe thead th {\n",
              "        text-align: right;\n",
              "    }\n",
              "</style>\n",
              "<table border=\"1\" class=\"dataframe\">\n",
              "  <thead>\n",
              "    <tr style=\"text-align: right;\">\n",
              "      <th></th>\n",
              "      <th>Title</th>\n",
              "      <th>Title_link</th>\n",
              "      <th>Comments</th>\n",
              "      <th>CommentsTime</th>\n",
              "      <th>CommentsLike</th>\n",
              "      <th>TransferedTime</th>\n",
              "      <th>Emotion</th>\n",
              "    </tr>\n",
              "  </thead>\n",
              "  <tbody>\n",
              "    <tr>\n",
              "      <th>0</th>\n",
              "      <td>Zombieland: Double Tap Trailer #1 (2019) | Mov...</td>\n",
              "      <td>https://www.youtube.com/watch?v=YghZVENrn3Q&amp;li...</td>\n",
              "      <td>Words cannot express how happy this makes me.</td>\n",
              "      <td>1 week ago</td>\n",
              "      <td>1.2K</td>\n",
              "      <td>13</td>\n",
              "      <td>NaN</td>\n",
              "    </tr>\n",
              "    <tr>\n",
              "      <th>1</th>\n",
              "      <td>Zombieland: Double Tap Trailer #1 (2019) | Mov...</td>\n",
              "      <td>https://www.youtube.com/watch?v=YghZVENrn3Q&amp;li...</td>\n",
              "      <td>I have high hopes that this will not disappoin...</td>\n",
              "      <td>1 week ago</td>\n",
              "      <td>1.1K</td>\n",
              "      <td>13</td>\n",
              "      <td>NaN</td>\n",
              "    </tr>\n",
              "    <tr>\n",
              "      <th>2</th>\n",
              "      <td>Zombieland: Double Tap Trailer #1 (2019) | Mov...</td>\n",
              "      <td>https://www.youtube.com/watch?v=YghZVENrn3Q&amp;li...</td>\n",
              "      <td>2019 Jesse Eisenberg looks same as 2009 Jesse ...</td>\n",
              "      <td>1 week ago</td>\n",
              "      <td>548</td>\n",
              "      <td>13</td>\n",
              "      <td>NaN</td>\n",
              "    </tr>\n",
              "    <tr>\n",
              "      <th>3</th>\n",
              "      <td>Zombieland: Double Tap Trailer #1 (2019) | Mov...</td>\n",
              "      <td>https://www.youtube.com/watch?v=YghZVENrn3Q&amp;li...</td>\n",
              "      <td>I love that they pointed out that the 4 leads ...</td>\n",
              "      <td>1 week ago</td>\n",
              "      <td>388</td>\n",
              "      <td>13</td>\n",
              "      <td>NaN</td>\n",
              "    </tr>\n",
              "    <tr>\n",
              "      <th>4</th>\n",
              "      <td>Zombieland: Double Tap Trailer #1 (2019) | Mov...</td>\n",
              "      <td>https://www.youtube.com/watch?v=YghZVENrn3Q&amp;li...</td>\n",
              "      <td>When you get a notification of the Zombieland ...</td>\n",
              "      <td>1 week ago</td>\n",
              "      <td>454</td>\n",
              "      <td>13</td>\n",
              "      <td>NaN</td>\n",
              "    </tr>\n",
              "  </tbody>\n",
              "</table>\n",
              "</div>"
            ],
            "text/plain": [
              "                                               Title  ... Emotion\n",
              "0  Zombieland: Double Tap Trailer #1 (2019) | Mov...  ...     NaN\n",
              "1  Zombieland: Double Tap Trailer #1 (2019) | Mov...  ...     NaN\n",
              "2  Zombieland: Double Tap Trailer #1 (2019) | Mov...  ...     NaN\n",
              "3  Zombieland: Double Tap Trailer #1 (2019) | Mov...  ...     NaN\n",
              "4  Zombieland: Double Tap Trailer #1 (2019) | Mov...  ...     NaN\n",
              "\n",
              "[5 rows x 7 columns]"
            ]
          },
          "metadata": {
            "tags": []
          },
          "execution_count": 8
        }
      ]
    },
    {
      "cell_type": "code",
      "metadata": {
        "id": "iwAVarBohAU2",
        "colab_type": "code",
        "colab": {
          "base_uri": "https://localhost:8080/",
          "height": 50
        },
        "outputId": "bca418dd-eb0a-4c10-9ee5-01d5ff4df698"
      },
      "source": [
        "count_row = YoutubeComments.shape[0]\n",
        "print(\"Number of rows before deleting the Null entry: \", count_row)\n",
        "YoutubeComments['Comments'].isnull().sum()\n",
        "YoutubeComments = YoutubeComments.dropna(axis = 0, subset=['Comments'])\n",
        "YoutubeComments['Comments'].isnull().sum()\n",
        "count_row = YoutubeComments.shape[0]\n",
        "print(\"Number of rows after deleting the Null entry: \",count_row)"
      ],
      "execution_count": null,
      "outputs": [
        {
          "output_type": "stream",
          "text": [
            "Number of rows before deleting the Null entry:  199\n",
            "Number of rows after deleting the Null entry:  199\n"
          ],
          "name": "stdout"
        }
      ]
    },
    {
      "cell_type": "code",
      "metadata": {
        "id": "WM2AAiDegTGC",
        "colab_type": "code",
        "colab": {}
      },
      "source": [
        "for ind in YoutubeComments.index: \n",
        "    \n",
        "    PredictionYT = reloaded_predictor.predict(YoutubeComments['Comments'][ind])\n",
        "    YoutubeComments['Emotion'][ind]  = PredictionYT\n",
        "    print(ind)\n"
      ],
      "execution_count": null,
      "outputs": []
    },
    {
      "cell_type": "code",
      "metadata": {
        "id": "FA1YQpHOjP8e",
        "colab_type": "code",
        "colab": {
          "base_uri": "https://localhost:8080/"
        },
        "outputId": "a6520a40-17bf-46e4-f1c4-3cf293a0bb11"
      },
      "source": [
        "YoutubeComments.head()"
      ],
      "execution_count": null,
      "outputs": [
        {
          "output_type": "execute_result",
          "data": {
            "text/html": [
              "<div>\n",
              "<style scoped>\n",
              "    .dataframe tbody tr th:only-of-type {\n",
              "        vertical-align: middle;\n",
              "    }\n",
              "\n",
              "    .dataframe tbody tr th {\n",
              "        vertical-align: top;\n",
              "    }\n",
              "\n",
              "    .dataframe thead th {\n",
              "        text-align: right;\n",
              "    }\n",
              "</style>\n",
              "<table border=\"1\" class=\"dataframe\">\n",
              "  <thead>\n",
              "    <tr style=\"text-align: right;\">\n",
              "      <th></th>\n",
              "      <th>Title</th>\n",
              "      <th>Title_link</th>\n",
              "      <th>Comments</th>\n",
              "      <th>CommentsTime</th>\n",
              "      <th>CommentsLike</th>\n",
              "      <th>TransferedTime</th>\n",
              "      <th>Emotion</th>\n",
              "    </tr>\n",
              "  </thead>\n",
              "  <tbody>\n",
              "    <tr>\n",
              "      <th>0</th>\n",
              "      <td>Zombieland: Double Tap Trailer #1 (2019) | Mov...</td>\n",
              "      <td>https://www.youtube.com/watch?v=YghZVENrn3Q&amp;li...</td>\n",
              "      <td>Words cannot express how happy this makes me.</td>\n",
              "      <td>1 week ago</td>\n",
              "      <td>1.2K</td>\n",
              "      <td>13</td>\n",
              "      <td>joy</td>\n",
              "    </tr>\n",
              "    <tr>\n",
              "      <th>1</th>\n",
              "      <td>Zombieland: Double Tap Trailer #1 (2019) | Mov...</td>\n",
              "      <td>https://www.youtube.com/watch?v=YghZVENrn3Q&amp;li...</td>\n",
              "      <td>I have high hopes that this will not disappoin...</td>\n",
              "      <td>1 week ago</td>\n",
              "      <td>1.1K</td>\n",
              "      <td>13</td>\n",
              "      <td>neutral</td>\n",
              "    </tr>\n",
              "    <tr>\n",
              "      <th>2</th>\n",
              "      <td>Zombieland: Double Tap Trailer #1 (2019) | Mov...</td>\n",
              "      <td>https://www.youtube.com/watch?v=YghZVENrn3Q&amp;li...</td>\n",
              "      <td>2019 Jesse Eisenberg looks same as 2009 Jesse ...</td>\n",
              "      <td>1 week ago</td>\n",
              "      <td>548</td>\n",
              "      <td>13</td>\n",
              "      <td>fear</td>\n",
              "    </tr>\n",
              "    <tr>\n",
              "      <th>3</th>\n",
              "      <td>Zombieland: Double Tap Trailer #1 (2019) | Mov...</td>\n",
              "      <td>https://www.youtube.com/watch?v=YghZVENrn3Q&amp;li...</td>\n",
              "      <td>I love that they pointed out that the 4 leads ...</td>\n",
              "      <td>1 week ago</td>\n",
              "      <td>388</td>\n",
              "      <td>13</td>\n",
              "      <td>fear</td>\n",
              "    </tr>\n",
              "    <tr>\n",
              "      <th>4</th>\n",
              "      <td>Zombieland: Double Tap Trailer #1 (2019) | Mov...</td>\n",
              "      <td>https://www.youtube.com/watch?v=YghZVENrn3Q&amp;li...</td>\n",
              "      <td>When you get a notification of the Zombieland ...</td>\n",
              "      <td>1 week ago</td>\n",
              "      <td>454</td>\n",
              "      <td>13</td>\n",
              "      <td>fear</td>\n",
              "    </tr>\n",
              "  </tbody>\n",
              "</table>\n",
              "</div>"
            ],
            "text/plain": [
              "                                               Title  ...  Emotion\n",
              "0  Zombieland: Double Tap Trailer #1 (2019) | Mov...  ...      joy\n",
              "1  Zombieland: Double Tap Trailer #1 (2019) | Mov...  ...  neutral\n",
              "2  Zombieland: Double Tap Trailer #1 (2019) | Mov...  ...     fear\n",
              "3  Zombieland: Double Tap Trailer #1 (2019) | Mov...  ...     fear\n",
              "4  Zombieland: Double Tap Trailer #1 (2019) | Mov...  ...     fear\n",
              "\n",
              "[5 rows x 7 columns]"
            ]
          },
          "metadata": {
            "tags": []
          },
          "execution_count": 11
        }
      ]
    },
    {
      "cell_type": "code",
      "metadata": {
        "id": "w67aAmXX6s1d",
        "colab_type": "code",
        "colab": {}
      },
      "source": [
        "YoutubeComments.to_csv('BertKtrainEmotion.csv')"
      ],
      "execution_count": null,
      "outputs": []
    }
  ]
}